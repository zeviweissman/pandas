{
 "cells": [
  {
   "cell_type": "code",
   "execution_count": null,
   "id": "6a9e9f5945c1b169",
   "metadata": {},
   "outputs": [],
   "source": []
  },
  {
   "cell_type": "markdown",
   "id": "2b8e938eb34b0315",
   "metadata": {},
   "source": [
    "# Exercise: Exploratory Data Analysis with Pandas\n",
    "## Instructions\n",
    "1. Data Collection\n",
    "    - Search and collect data on the following: (1993 - 2023)\n",
    "        - Israel interest rates\n",
    "        - US interest rates\n",
    "        - USD to ILS exchange rates\n",
    "    - For each dataset, create a pandas DataFrame with the following columns:\n",
    "        - Year\n",
    "        - Month\n",
    "        - Current_Rate (Interest rate or exchange rate for that month)\n",
    "        - Change_From_Last_Month (Difference in Current_Rate from the previous month)\n",
    "        - Optional: You may include additional columns if you find them useful (e.g., Change_Percentage, Date).\n",
    "\n"
   ]
  },
  {
   "cell_type": "code",
   "execution_count": 117,
   "id": "17a7b132e53c5faa",
   "metadata": {},
   "outputs": [],
   "source": [
    "import numpy as np\n",
    "import pandas as pd"
   ]
  },
  {
   "cell_type": "code",
   "execution_count": 118,
   "id": "8fb38157aa6333f3",
   "metadata": {},
   "outputs": [],
   "source": [
    "# your code here\n",
    "dtypes_for_Israel_interest_rate = {\n",
    "        'TIME_PERIOD': str,\n",
    "        'OBS_VALUE': float,    \n",
    "    }\n",
    "columns_for_Israel_interest_rate = ['TIME_PERIOD', 'OBS_VALUE']\n",
    "\n",
    "Israel_interest_rate_df = pd.read_csv('./BR.csv',usecols=columns_for_Israel_interest_rate , dtype=dtypes_for_Israel_interest_rate, low_memory=False)\n",
    "\n",
    "Israel_interest_rate_df['year'] = Israel_interest_rate_df['TIME_PERIOD'].str.slice(0,4)\n",
    "Israel_interest_rate_df['month'] = Israel_interest_rate_df['TIME_PERIOD'].str.slice(5,7)\n",
    "Israel_interest_rate_df = Israel_interest_rate_df.drop_duplicates(['year', 'month'], ignore_index=True)\n",
    "series_for_rate_comparison_Israel = Israel_interest_rate_df['OBS_VALUE'].shift(periods = 1) \n",
    "Israel_interest_rate_df['change from last month'] = Israel_interest_rate_df['OBS_VALUE'] - series_for_rate_comparison_Israel"
   ]
  },
  {
   "cell_type": "code",
   "execution_count": 119,
   "id": "94104504-9180-46c0-a16d-2b999c2b9554",
   "metadata": {},
   "outputs": [],
   "source": [
    "dtypes_for_US_interest_rate = {\n",
    "    'date': str,\n",
    "    'value': float,\n",
    "}\n",
    "columns_for_US_interest_rate = ['date', 'value']\n",
    "\n",
    "US_interest_rate_df = pd.read_csv('./fed-funds-rate-historical-chart.csv',usecols=columns_for_US_interest_rate , dtype=dtypes_for_US_interest_rate, low_memory=False)\n",
    "\n",
    "US_interest_rate_df['year'] = US_interest_rate_df['date'].str.slice(0,4)\n",
    "US_interest_rate_df['month'] = US_interest_rate_df['date'].str.slice(5,7)\n",
    "US_interest_rate_df = US_interest_rate_df.drop_duplicates(['year','month'], ignore_index=True)\n",
    "series_for_rate_comparison_US = US_interest_rate_df['value'].shift(periods = 1) \n",
    "US_interest_rate_df['change from last month'] = US_interest_rate_df['value'] - series_for_rate_comparison_US"
   ]
  },
  {
   "cell_type": "code",
   "execution_count": 120,
   "id": "78bfb7de-c75d-4ec1-bffa-cdadd4b19962",
   "metadata": {},
   "outputs": [],
   "source": [
    "dtypes_for_USD_NIS_exchange_rate = {\n",
    "    'Date': str,\n",
    "    'USD' : float,\n",
    "}\n",
    "columns_for_USD_NIS_exchange_rate = ['Date', 'USD']\n",
    "\n",
    "USD_NIS_exchange_rate_df = pd.read_csv('./USD_NIS_exchange_rate.csv',usecols=columns_for_USD_NIS_exchange_rate , dtype=dtypes_for_USD_NIS_exchange_rate, low_memory=False)\n",
    "\n",
    "\n",
    "USD_NIS_exchange_rate_df['year'] = USD_NIS_exchange_rate_df['Date'].str.slice(6)\n",
    "USD_NIS_exchange_rate_df['month'] = USD_NIS_exchange_rate_df['Date'].str.slice(3,5)\n",
    "USD_NIS_exchange_rate_df = USD_NIS_exchange_rate_df.drop_duplicates(['year','month'], ignore_index=True)\n",
    "series_for_rate_comparison_USD_NIS = USD_NIS_exchange_rate_df['USD'].shift(periods = 1) \n",
    "USD_NIS_exchange_rate_df['change from last month'] = USD_NIS_exchange_rate_df['USD'] - series_for_rate_comparison_USD_NIS"
   ]
  },
  {
   "cell_type": "markdown",
   "id": "71323c7318598fbb",
   "metadata": {},
   "source": [
    "## Part A: Single DataFrame Analysis \n",
    "1. Display the first 5 rows of the US interest rates DataFrame.\n",
    "\n",
    "2. Calculate the average Israeli interest rate over the period covered by your data.\n",
    "\n",
    "3. Find the month and year when the USD to ILS exchange rate had the highest increase from the previous month.\n",
    "\n",
    "4. Determine the total number of months where the US interest rate decreased compared to the previous month.\n",
    "\n",
    "5. Add a new column to the Israeli interest rates DataFrame called Change_Percentage, representing the percentage change from the previous month.\n",
    "\n"
   ]
  },
  {
   "cell_type": "code",
   "execution_count": 121,
   "id": "399887d7fba8803a",
   "metadata": {
    "ExecuteTime": {
     "end_time": "2024-11-07T00:06:28.045691Z",
     "start_time": "2024-11-07T00:06:28.043900Z"
    }
   },
   "outputs": [
    {
     "data": {
      "text/html": [
       "<div>\n",
       "<style scoped>\n",
       "    .dataframe tbody tr th:only-of-type {\n",
       "        vertical-align: middle;\n",
       "    }\n",
       "\n",
       "    .dataframe tbody tr th {\n",
       "        vertical-align: top;\n",
       "    }\n",
       "\n",
       "    .dataframe thead th {\n",
       "        text-align: right;\n",
       "    }\n",
       "</style>\n",
       "<table border=\"1\" class=\"dataframe\">\n",
       "  <thead>\n",
       "    <tr style=\"text-align: right;\">\n",
       "      <th></th>\n",
       "      <th>date</th>\n",
       "      <th>value</th>\n",
       "      <th>year</th>\n",
       "      <th>month</th>\n",
       "      <th>change from last month</th>\n",
       "    </tr>\n",
       "  </thead>\n",
       "  <tbody>\n",
       "    <tr>\n",
       "      <th>0</th>\n",
       "      <td>1954-07-01</td>\n",
       "      <td>1.13</td>\n",
       "      <td>1954</td>\n",
       "      <td>07</td>\n",
       "      <td>NaN</td>\n",
       "    </tr>\n",
       "    <tr>\n",
       "      <th>1</th>\n",
       "      <td>1954-08-01</td>\n",
       "      <td>0.25</td>\n",
       "      <td>1954</td>\n",
       "      <td>08</td>\n",
       "      <td>-0.88</td>\n",
       "    </tr>\n",
       "    <tr>\n",
       "      <th>2</th>\n",
       "      <td>1954-09-01</td>\n",
       "      <td>1.44</td>\n",
       "      <td>1954</td>\n",
       "      <td>09</td>\n",
       "      <td>1.19</td>\n",
       "    </tr>\n",
       "    <tr>\n",
       "      <th>3</th>\n",
       "      <td>1954-10-01</td>\n",
       "      <td>0.50</td>\n",
       "      <td>1954</td>\n",
       "      <td>10</td>\n",
       "      <td>-0.94</td>\n",
       "    </tr>\n",
       "    <tr>\n",
       "      <th>4</th>\n",
       "      <td>1954-11-01</td>\n",
       "      <td>1.38</td>\n",
       "      <td>1954</td>\n",
       "      <td>11</td>\n",
       "      <td>0.88</td>\n",
       "    </tr>\n",
       "  </tbody>\n",
       "</table>\n",
       "</div>"
      ],
      "text/plain": [
       "         date  value  year month  change from last month\n",
       "0  1954-07-01   1.13  1954    07                     NaN\n",
       "1  1954-08-01   0.25  1954    08                   -0.88\n",
       "2  1954-09-01   1.44  1954    09                    1.19\n",
       "3  1954-10-01   0.50  1954    10                   -0.94\n",
       "4  1954-11-01   1.38  1954    11                    0.88"
      ]
     },
     "execution_count": 121,
     "metadata": {},
     "output_type": "execute_result"
    }
   ],
   "source": [
    "# A - 1\n",
    "# your code here\n",
    "US_interest_rate_df.head(5)"
   ]
  },
  {
   "cell_type": "code",
   "execution_count": 122,
   "id": "91d022cc344514de",
   "metadata": {
    "ExecuteTime": {
     "end_time": "2024-11-07T00:06:49.986484Z",
     "start_time": "2024-11-07T00:06:49.984372Z"
    }
   },
   "outputs": [
    {
     "data": {
      "text/plain": [
       "4.894722222222222"
      ]
     },
     "execution_count": 122,
     "metadata": {},
     "output_type": "execute_result"
    }
   ],
   "source": [
    "# A - 2\n",
    "# your code here\n",
    "Israel_interest_rate_df['OBS_VALUE'].mean()"
   ]
  },
  {
   "cell_type": "code",
   "execution_count": 123,
   "id": "c29c363cd4e9a279",
   "metadata": {
    "ExecuteTime": {
     "end_time": "2024-11-07T00:06:53.867357Z",
     "start_time": "2024-11-07T00:06:53.865505Z"
    }
   },
   "outputs": [
    {
     "data": {
      "text/html": [
       "<div>\n",
       "<style scoped>\n",
       "    .dataframe tbody tr th:only-of-type {\n",
       "        vertical-align: middle;\n",
       "    }\n",
       "\n",
       "    .dataframe tbody tr th {\n",
       "        vertical-align: top;\n",
       "    }\n",
       "\n",
       "    .dataframe thead th {\n",
       "        text-align: right;\n",
       "    }\n",
       "</style>\n",
       "<table border=\"1\" class=\"dataframe\">\n",
       "  <thead>\n",
       "    <tr style=\"text-align: right;\">\n",
       "      <th></th>\n",
       "      <th>Date</th>\n",
       "      <th>USD</th>\n",
       "      <th>year</th>\n",
       "      <th>month</th>\n",
       "      <th>change from last month</th>\n",
       "    </tr>\n",
       "  </thead>\n",
       "  <tbody>\n",
       "    <tr>\n",
       "      <th>13</th>\n",
       "      <td>31/10/2023</td>\n",
       "      <td>4.017</td>\n",
       "      <td>2023</td>\n",
       "      <td>10</td>\n",
       "      <td>0.303</td>\n",
       "    </tr>\n",
       "  </tbody>\n",
       "</table>\n",
       "</div>"
      ],
      "text/plain": [
       "          Date    USD  year month  change from last month\n",
       "13  31/10/2023  4.017  2023    10                   0.303"
      ]
     },
     "execution_count": 123,
     "metadata": {},
     "output_type": "execute_result"
    }
   ],
   "source": [
    "# A - 3\n",
    "# your code here\n",
    "USD_NIS_exchange_rate_df[USD_NIS_exchange_rate_df['change from last month'] == USD_NIS_exchange_rate_df['change from last month'].max()]\n",
    "\n",
    "USD_NIS_exchange_rate_df.sort_values('change from last month').dropna().tail(1)"
   ]
  },
  {
   "cell_type": "code",
   "execution_count": 124,
   "id": "c4c8ec122d04672",
   "metadata": {
    "ExecuteTime": {
     "end_time": "2024-11-07T00:06:56.963009Z",
     "start_time": "2024-11-07T00:06:56.960675Z"
    }
   },
   "outputs": [
    {
     "data": {
      "text/plain": [
       "367"
      ]
     },
     "execution_count": 124,
     "metadata": {},
     "output_type": "execute_result"
    }
   ],
   "source": [
    "# A - 4\n",
    "# your code here\n",
    "\n",
    "US_interest_rate_df[US_interest_rate_df['change from last month'] > 0].shape[0]"
   ]
  },
  {
   "cell_type": "code",
   "execution_count": 125,
   "id": "49115d5dbff52532",
   "metadata": {},
   "outputs": [
    {
     "data": {
      "text/html": [
       "<div>\n",
       "<style scoped>\n",
       "    .dataframe tbody tr th:only-of-type {\n",
       "        vertical-align: middle;\n",
       "    }\n",
       "\n",
       "    .dataframe tbody tr th {\n",
       "        vertical-align: top;\n",
       "    }\n",
       "\n",
       "    .dataframe thead th {\n",
       "        text-align: right;\n",
       "    }\n",
       "</style>\n",
       "<table border=\"1\" class=\"dataframe\">\n",
       "  <thead>\n",
       "    <tr style=\"text-align: right;\">\n",
       "      <th></th>\n",
       "      <th>TIME_PERIOD</th>\n",
       "      <th>OBS_VALUE</th>\n",
       "      <th>year</th>\n",
       "      <th>month</th>\n",
       "      <th>change from last month</th>\n",
       "      <th>change from last month (percentage)</th>\n",
       "    </tr>\n",
       "  </thead>\n",
       "  <tbody>\n",
       "    <tr>\n",
       "      <th>0</th>\n",
       "      <td>1994-01-27</td>\n",
       "      <td>10.50</td>\n",
       "      <td>1994</td>\n",
       "      <td>01</td>\n",
       "      <td>NaN</td>\n",
       "      <td>NaN</td>\n",
       "    </tr>\n",
       "    <tr>\n",
       "      <th>1</th>\n",
       "      <td>1994-02-01</td>\n",
       "      <td>10.50</td>\n",
       "      <td>1994</td>\n",
       "      <td>02</td>\n",
       "      <td>0.0</td>\n",
       "      <td>0.0</td>\n",
       "    </tr>\n",
       "    <tr>\n",
       "      <th>2</th>\n",
       "      <td>1994-03-01</td>\n",
       "      <td>10.50</td>\n",
       "      <td>1994</td>\n",
       "      <td>03</td>\n",
       "      <td>0.0</td>\n",
       "      <td>0.0</td>\n",
       "    </tr>\n",
       "    <tr>\n",
       "      <th>3</th>\n",
       "      <td>1994-04-01</td>\n",
       "      <td>10.50</td>\n",
       "      <td>1994</td>\n",
       "      <td>04</td>\n",
       "      <td>0.0</td>\n",
       "      <td>0.0</td>\n",
       "    </tr>\n",
       "    <tr>\n",
       "      <th>4</th>\n",
       "      <td>1994-05-01</td>\n",
       "      <td>10.50</td>\n",
       "      <td>1994</td>\n",
       "      <td>05</td>\n",
       "      <td>0.0</td>\n",
       "      <td>0.0</td>\n",
       "    </tr>\n",
       "    <tr>\n",
       "      <th>...</th>\n",
       "      <td>...</td>\n",
       "      <td>...</td>\n",
       "      <td>...</td>\n",
       "      <td>...</td>\n",
       "      <td>...</td>\n",
       "      <td>...</td>\n",
       "    </tr>\n",
       "    <tr>\n",
       "      <th>355</th>\n",
       "      <td>2023-08-01</td>\n",
       "      <td>4.75</td>\n",
       "      <td>2023</td>\n",
       "      <td>08</td>\n",
       "      <td>0.0</td>\n",
       "      <td>0.0</td>\n",
       "    </tr>\n",
       "    <tr>\n",
       "      <th>356</th>\n",
       "      <td>2023-09-01</td>\n",
       "      <td>4.75</td>\n",
       "      <td>2023</td>\n",
       "      <td>09</td>\n",
       "      <td>0.0</td>\n",
       "      <td>0.0</td>\n",
       "    </tr>\n",
       "    <tr>\n",
       "      <th>357</th>\n",
       "      <td>2023-10-01</td>\n",
       "      <td>4.75</td>\n",
       "      <td>2023</td>\n",
       "      <td>10</td>\n",
       "      <td>0.0</td>\n",
       "      <td>0.0</td>\n",
       "    </tr>\n",
       "    <tr>\n",
       "      <th>358</th>\n",
       "      <td>2023-11-01</td>\n",
       "      <td>4.75</td>\n",
       "      <td>2023</td>\n",
       "      <td>11</td>\n",
       "      <td>0.0</td>\n",
       "      <td>0.0</td>\n",
       "    </tr>\n",
       "    <tr>\n",
       "      <th>359</th>\n",
       "      <td>2023-12-01</td>\n",
       "      <td>4.75</td>\n",
       "      <td>2023</td>\n",
       "      <td>12</td>\n",
       "      <td>0.0</td>\n",
       "      <td>0.0</td>\n",
       "    </tr>\n",
       "  </tbody>\n",
       "</table>\n",
       "<p>360 rows × 6 columns</p>\n",
       "</div>"
      ],
      "text/plain": [
       "    TIME_PERIOD  OBS_VALUE  year month  change from last month  \\\n",
       "0    1994-01-27      10.50  1994    01                     NaN   \n",
       "1    1994-02-01      10.50  1994    02                     0.0   \n",
       "2    1994-03-01      10.50  1994    03                     0.0   \n",
       "3    1994-04-01      10.50  1994    04                     0.0   \n",
       "4    1994-05-01      10.50  1994    05                     0.0   \n",
       "..          ...        ...   ...   ...                     ...   \n",
       "355  2023-08-01       4.75  2023    08                     0.0   \n",
       "356  2023-09-01       4.75  2023    09                     0.0   \n",
       "357  2023-10-01       4.75  2023    10                     0.0   \n",
       "358  2023-11-01       4.75  2023    11                     0.0   \n",
       "359  2023-12-01       4.75  2023    12                     0.0   \n",
       "\n",
       "     change from last month (percentage)  \n",
       "0                                    NaN  \n",
       "1                                    0.0  \n",
       "2                                    0.0  \n",
       "3                                    0.0  \n",
       "4                                    0.0  \n",
       "..                                   ...  \n",
       "355                                  0.0  \n",
       "356                                  0.0  \n",
       "357                                  0.0  \n",
       "358                                  0.0  \n",
       "359                                  0.0  \n",
       "\n",
       "[360 rows x 6 columns]"
      ]
     },
     "execution_count": 125,
     "metadata": {},
     "output_type": "execute_result"
    }
   ],
   "source": [
    "# A - 5\n",
    "# your code here\n",
    "\n",
    "Israel_interest_rate_df['change from last month (percentage)'] =  ((series_for_rate_comparison_Israel - Israel_interest_rate_df['OBS_VALUE']) / series_for_rate_comparison_Israel) * 100\n",
    "Israel_interest_rate_df"
   ]
  },
  {
   "cell_type": "markdown",
   "id": "37324394ba9e1454",
   "metadata": {},
   "source": [
    "## Part B: Merging DataFrames\n",
    "1. Merge the US and Israeli interest rates DataFrames on Year and Month.\n",
    "\n",
    "2. In the merged DataFrame, create a new column Rate_Difference that shows the difference between the Israeli and US interest rates for each month.\n",
    "\n",
    "3. Identify all months when the Israeli interest rate was at least 1% higher than the US interest rate - IH (Israeli Higher).\n",
    "Identify all months when the US interest rate was at least 1% higher than the Israeli interest rate - UH (US Higher).\n",
    "Identify all months when the interest rates were within 1% of each other - N (Near)\n",
    "make a new column called Rate_Comparison with the following values: IH, UH, or N.\n",
    "\n",
    "4. Merge the exchange rate DataFrame with the merged interest rates DataFrame.\n",
    "\n",
    "5. After merging all three DataFrames, find the correlation between the Rate_Difference and the Current_Rate of the exchange rate.\n",
    "hint: find the connection between the difference in interest rates and the exchange rates, use any method you think is appropriate.\n",
    "provide an explanation of the results (in Hebrew) - at least 2 rows of text + a proof of the connection(some output) you found.\n"
   ]
  },
  {
   "cell_type": "code",
   "execution_count": 126,
   "id": "f6fcdba8d4d32d73",
   "metadata": {
    "ExecuteTime": {
     "end_time": "2024-11-07T00:06:02.968903Z",
     "start_time": "2024-11-07T00:06:02.967090Z"
    }
   },
   "outputs": [],
   "source": [
    "# B - 1\n",
    "# your code here\n",
    "Israel_US_interest_rate_df = pd.merge(Israel_interest_rate_df, US_interest_rate_df, on=['year', 'month'])\n",
    "Israel_US_interest_rate_df.rename(columns={'OBS_VALUE':'israel rate', 'change from last month_x':'israel monthly change', 'change from last month_y':'us monthly change', 'value':'us rate'}, inplace=True)\n",
    "Israel_US_interest_rate_df.drop(columns=['TIME_PERIOD', 'date', 'change from last month (percentage)'], inplace=True)"
   ]
  },
  {
   "cell_type": "code",
   "execution_count": 127,
   "id": "7f18978fee56c6d6",
   "metadata": {
    "ExecuteTime": {
     "end_time": "2024-11-07T00:06:08.105790Z",
     "start_time": "2024-11-07T00:06:08.103620Z"
    }
   },
   "outputs": [],
   "source": [
    "# B - 2\n",
    "# your code here\n",
    "Israel_US_interest_rate_df['rate difference'] = Israel_US_interest_rate_df['israel rate'] - Israel_US_interest_rate_df['us rate']"
   ]
  },
  {
   "cell_type": "code",
   "execution_count": 128,
   "id": "c6dcf835650149bf",
   "metadata": {
    "ExecuteTime": {
     "end_time": "2024-11-07T00:06:10.259079Z",
     "start_time": "2024-11-07T00:06:10.257004Z"
    }
   },
   "outputs": [],
   "source": [
    "# B - 3\n",
    "# your code here\n",
    "def compare_rate_difference(israel_rate, us_rate):\n",
    "    diff = ((israel_rate - us_rate) / israel_rate) * 100\n",
    "    return 'IH' if diff > 1 else 'UH' if diff < -1 else 'N' \n",
    "    \n",
    "Israel_US_interest_rate_df['rate comparison'] = Israel_US_interest_rate_df[['israel rate', 'us rate']].apply(lambda df: compare_rate_difference(df['israel rate'], df['us rate']), axis=1)\n"
   ]
  },
  {
   "cell_type": "code",
   "execution_count": 129,
   "id": "3145d351d7cbe982",
   "metadata": {
    "ExecuteTime": {
     "end_time": "2024-11-07T00:06:12.381548Z",
     "start_time": "2024-11-07T00:06:12.379873Z"
    }
   },
   "outputs": [],
   "source": [
    "# B - 4\n",
    "# your code here\n",
    "all_data = pd.merge(Israel_US_interest_rate_df, USD_NIS_exchange_rate_df, on=['year', 'month'])\n",
    "all_data.rename(columns={'change from last month':'usd monthly change'}, inplace=True)\n",
    "all_data.drop(columns=['Date'], inplace=True)"
   ]
  },
  {
   "cell_type": "code",
   "execution_count": 150,
   "id": "fe04eba74c68ab35",
   "metadata": {
    "ExecuteTime": {
     "end_time": "2024-11-07T00:06:37.878612Z",
     "start_time": "2024-11-07T00:06:37.876775Z"
    }
   },
   "outputs": [
    {
     "data": {
      "text/html": [
       "<div>\n",
       "<style scoped>\n",
       "    .dataframe tbody tr th:only-of-type {\n",
       "        vertical-align: middle;\n",
       "    }\n",
       "\n",
       "    .dataframe tbody tr th {\n",
       "        vertical-align: top;\n",
       "    }\n",
       "\n",
       "    .dataframe thead th {\n",
       "        text-align: right;\n",
       "    }\n",
       "</style>\n",
       "<table border=\"1\" class=\"dataframe\">\n",
       "  <thead>\n",
       "    <tr style=\"text-align: right;\">\n",
       "      <th></th>\n",
       "      <th>USD</th>\n",
       "      <th>rate difference</th>\n",
       "    </tr>\n",
       "  </thead>\n",
       "  <tbody>\n",
       "    <tr>\n",
       "      <th>USD</th>\n",
       "      <td>1.000000</td>\n",
       "      <td>-0.116971</td>\n",
       "    </tr>\n",
       "    <tr>\n",
       "      <th>rate difference</th>\n",
       "      <td>-0.116971</td>\n",
       "      <td>1.000000</td>\n",
       "    </tr>\n",
       "  </tbody>\n",
       "</table>\n",
       "</div>"
      ],
      "text/plain": [
       "                      USD  rate difference\n",
       "USD              1.000000        -0.116971\n",
       "rate difference -0.116971         1.000000"
      ]
     },
     "execution_count": 150,
     "metadata": {},
     "output_type": "execute_result"
    }
   ],
   "source": [
    "# B - 5\n",
    "# your code here\n",
    "all_data[['USD', 'rate difference']].corr(method='pearson')\n",
    "# כפי שאפשר לראות בטבלה מתחת יש קורילציה שלילית כלומר \n",
    "# כלומר כאשר הדולר עולה הפער בין הרבית בישראל לרבית בארצות הברית יורד\n",
    "# וכאשר הדולר יורד הפער בין הרבית בישראל לרבית בארצות הברית עולה"
   ]
  },
  {
   "cell_type": "markdown",
   "id": "22213f81bdf06965",
   "metadata": {},
   "source": [
    "## Part C: Analyzing Relationships Between DataFrames\n",
    "1. Analyze whether increases in US interest rates are associated with increases or decreases in the USD to ILS exchange rate in the same month.\n",
    "\n",
    "2. Determine if changes in the Israeli interest rate have a stronger impact on the exchange rate than changes in the US interest rate.\n",
    "\n",
    "3. Find any time lags in the effect of interest rate changes on the exchange rate. For example, does a change in US interest rates affect the exchange rate in the following month?\n",
    "(כלומר- האם כשיש שינוי בריבית כלשהי - האם מייד יש שינוי בשער ההמרה? או שיש דיליי של חודש/חודשים עד שמרגישים את ההשפעה - אם בכלל?)\n",
    "\n",
    "4. Calculate the rolling past 3-month average of the exchange rate for each data time, and add it as a new column.\n",
    "\n",
    "5. Identify any periods where both US and Israeli interest rates were decreasing, and analyze how the exchange rate behaved during those periods.\n",
    "\n"
   ]
  },
  {
   "cell_type": "code",
   "execution_count": 212,
   "id": "48d876ac1bc8092",
   "metadata": {},
   "outputs": [
    {
     "data": {
      "text/plain": [
       "False"
      ]
     },
     "execution_count": 212,
     "metadata": {},
     "output_type": "execute_result"
    }
   ],
   "source": [
    "us_rate_and_dollar_up = all_data[(all_data['us monthly change'] > 0) & (all_data['usd monthly change'] > 0 )].shape[0]\n",
    "us_rate_down_and_dollar_up = all_data[(all_data['us monthly change'] <= 0) & (all_data['usd monthly change'] > 0 )].shape[0]\n",
    "us_rate_and_us_dollar_down = all_data[(all_data['us monthly change'] <= 0) & (all_data['usd monthly change'] <= 0 )].shape[0]\n",
    "us_rate_up_and_dollar_down = all_data[(all_data['us monthly change'] > 0) & (all_data['usd monthly change'] < 0 )].shape[0]\n",
    "\n",
    "us_rate_and_dollar_up > us_rate_down_and_dollar_up \n",
    "us_rate_and_us_dollar_down > us_rate_up_and_dollar_down\n",
    "\n",
    "# what we can see from this calculation is that there is connection between the rate and the dollar going down but not necessarily for going up "
   ]
  },
  {
   "cell_type": "code",
   "execution_count": 139,
   "id": "ad58baa9-d266-4033-a774-1855515e7682",
   "metadata": {},
   "outputs": [
    {
     "data": {
      "text/plain": [
       "True"
      ]
     },
     "execution_count": 139,
     "metadata": {},
     "output_type": "execute_result"
    }
   ],
   "source": [
    "israel_rate_and_dollar_up = all_data[(all_data['israel monthly change'] > 0) & (all_data['usd monthly change'] > 0 )].shape[0]\n",
    "israel_rate_down_and_dollar_up = all_data[(all_data['israel monthly change'] <= 0) & (all_data['usd monthly change'] > 0 )].shape[0]\n",
    "israel_rate_and_us_dollar_down = all_data[(all_data['israel monthly change'] <= 0) & (all_data['usd monthly change'] <= 0 )].shape[0]\n",
    "israel_rate_up_and_dollar_down = all_data[(all_data['israel monthly change'] > 0) & (all_data['usd monthly change'] < 0 )].shape[0]\n",
    "\n",
    "israel_rate_and_dollar_up > israel_rate_down_and_dollar_up \n",
    "israel_rate_and_us_dollar_down > israel_rate_up_and_dollar_down\n",
    "# what we can see from this calculation is that the israeli rate doesnt seem to have a stronger impact"
   ]
  },
  {
   "cell_type": "code",
   "execution_count": 148,
   "id": "734298f1-79ac-42ba-8744-bd449f075d62",
   "metadata": {
    "ExecuteTime": {
     "end_time": "2024-11-07T00:06:37.878612Z",
     "start_time": "2024-11-07T00:06:37.876775Z"
    }
   },
   "outputs": [
    {
     "data": {
      "text/html": [
       "<div>\n",
       "<style scoped>\n",
       "    .dataframe tbody tr th:only-of-type {\n",
       "        vertical-align: middle;\n",
       "    }\n",
       "\n",
       "    .dataframe tbody tr th {\n",
       "        vertical-align: top;\n",
       "    }\n",
       "\n",
       "    .dataframe thead th {\n",
       "        text-align: right;\n",
       "    }\n",
       "</style>\n",
       "<table border=\"1\" class=\"dataframe\">\n",
       "  <thead>\n",
       "    <tr style=\"text-align: right;\">\n",
       "      <th></th>\n",
       "      <th>USD</th>\n",
       "      <th>rate difference</th>\n",
       "    </tr>\n",
       "  </thead>\n",
       "  <tbody>\n",
       "    <tr>\n",
       "      <th>USD</th>\n",
       "      <td>1.000000</td>\n",
       "      <td>-0.116971</td>\n",
       "    </tr>\n",
       "    <tr>\n",
       "      <th>rate difference</th>\n",
       "      <td>-0.116971</td>\n",
       "      <td>1.000000</td>\n",
       "    </tr>\n",
       "  </tbody>\n",
       "</table>\n",
       "</div>"
      ],
      "text/plain": [
       "                      USD  rate difference\n",
       "USD              1.000000        -0.116971\n",
       "rate difference -0.116971         1.000000"
      ]
     },
     "execution_count": 148,
     "metadata": {},
     "output_type": "execute_result"
    }
   ],
   "source": [
    "# B - 5\n",
    "# your code here\n",
    "all_data[['USD', 'rate difference']].corr(method='pearson')"
   ]
  },
  {
   "cell_type": "code",
   "execution_count": 215,
   "id": "9399c65b-4b8e-4e24-a8d1-10a15e96dfb3",
   "metadata": {},
   "outputs": [
    {
     "data": {
      "text/plain": [
       "True"
      ]
     },
     "execution_count": 215,
     "metadata": {},
     "output_type": "execute_result"
    }
   ],
   "source": [
    "lags = [all_data['USD'].shift(-lag) for lag in range(1, 4)]\n",
    "all_data['one month lag'] = lags[0]\n",
    "all_data['two month lag'] = lags[1]\n",
    "all_data['three month lag'] = lags[2]\n",
    "\n",
    "\n",
    "us_rate_and_dollar_up1 = all_data[(all_data['one month lag'] > 0) & (all_data['usd monthly change'] > 0 )].shape[0]\n",
    "us_rate_down_and_dollar_up1 = all_data[(all_data['one month lag'] <= 0) & (all_data['usd monthly change'] > 0 )].shape[0]\n",
    "us_rate_and_dollar_up1 > us_rate_down_and_dollar_up1 \n",
    "\n",
    "us_rate_and_dollar_up2 = all_data[(all_data['two month lag'] > 0) & (all_data['usd monthly change'] > 0 )].shape[0]\n",
    "us_rate_down_and_dollar_up2 = all_data[(all_data['two month lag'] <= 0) & (all_data['usd monthly change'] > 0 )].shape[0]\n",
    "us_rate_and_dollar_up2 > us_rate_down_and_dollar_up2 \n",
    "\n",
    "us_rate_and_dollar_up3 = all_data[(all_data['three month lag'] > 0) & (all_data['usd monthly change'] > 0 )].shape[0]\n",
    "us_rate_down_and_dollar_up3 = all_data[(all_data['three month lag'] <= 0) & (all_data['usd monthly change'] > 0 )].shape[0]\n",
    "us_rate_and_dollar_up3 > us_rate_down_and_dollar_up3 \n",
    "\n",
    "\n",
    "# what we could see from the above example is that there is a lag between the increase of the interest rate and the exchange rate"
   ]
  },
  {
   "cell_type": "code",
   "execution_count": 140,
   "id": "076de52e-90fa-4a02-a64f-f957f07671f8",
   "metadata": {},
   "outputs": [],
   "source": [
    "all_data['3 month usd avg'] = (all_data['USD'] + all_data['USD'].shift(1) + all_data['USD'].shift(2)) / 3"
   ]
  },
  {
   "cell_type": "code",
   "execution_count": 144,
   "id": "57d648db-45f0-409a-a136-c50fa5a18739",
   "metadata": {},
   "outputs": [
    {
     "data": {
      "text/plain": [
       "count    26.000000\n",
       "mean      3.951154\n",
       "std       0.437817\n",
       "min       2.951000\n",
       "25%       3.665750\n",
       "50%       4.037000\n",
       "75%       4.247000\n",
       "max       4.602000\n",
       "Name: USD, dtype: float64"
      ]
     },
     "execution_count": 144,
     "metadata": {},
     "output_type": "execute_result"
    }
   ],
   "source": [
    "us_rate_and_israel_rate_down_and_dollar_down = all_data[(all_data['israel monthly change'] < 0) & (all_data['us monthly change'] < 0 ) & (all_data['usd monthly change'] < 0)]\n",
    "us_rate_and_israel_up_and_dollar_down = all_data[(all_data['israel monthly change'] >= 0) & (all_data['us monthly change'] >= 0 ) & (all_data['usd monthly change'] < 0)]\n",
    "us_rate_and_israel_rate_down_and_dollar_down.shape[0] > us_rate_and_israel_up_and_dollar_down.shape[0]\n",
    "us_rate_and_israel_rate_down_and_dollar_down['USD'].describe()\n",
    "# no we can see that there is no direct connection between both rates being down and the exchange rate"
   ]
  },
  {
   "cell_type": "code",
   "execution_count": null,
   "id": "706a690fd803211c",
   "metadata": {},
   "outputs": [],
   "source": [
    "# Bonus "
   ]
  },
  {
   "cell_type": "markdown",
   "id": "8be22debf92d8f3a",
   "metadata": {},
   "source": [
    "# Bonus\n",
    "choose 3 global / local events or periods that you think could have affected the exchange rate or interest rates\n",
    "and analyze the effect of these events on the data you collected.\n",
    "show proof of your analysis that supports your claim.\n",
    "\n",
    "(כלומר- תבחנו אירועים שקרו בתקופה שאתם עובדים עליה ובדקו איך הם השפיעו על הנתונים שאתם עובדים איתם)\n",
    "למשל: בחירות בארה״ב, בחירות בישראל, רוסיה אוקראינה, מלחמות בישראל וכו׳."
   ]
  },
  {
   "cell_type": "code",
   "execution_count": 186,
   "id": "7cd992b43f3700e8",
   "metadata": {},
   "outputs": [
    {
     "data": {
      "text/plain": [
       "year\n",
       "1994    0.201667\n",
       "1995    0.005833\n",
       "1996   -0.010000\n",
       "1997    0.040000\n",
       "1998   -0.091667\n",
       "1999    0.074167\n",
       "2000    0.074167\n",
       "2001   -0.378333\n",
       "2002   -0.069167\n",
       "2003   -0.016667\n",
       "2004    0.084167\n",
       "2005    0.165833\n",
       "2006    0.103333\n",
       "2007   -0.050833\n",
       "2008   -0.345000\n",
       "2009   -0.032500\n",
       "2010    0.005833\n",
       "2011   -0.010000\n",
       "2012    0.006667\n",
       "2013   -0.007500\n",
       "2014    0.005000\n",
       "2015    0.000000\n",
       "2016    0.023333\n",
       "2017    0.062500\n",
       "2018    0.085833\n",
       "2019   -0.052500\n",
       "2020   -0.122500\n",
       "2021   -0.000833\n",
       "2022    0.312500\n",
       "2023    0.125000\n",
       "Name: us monthly change, dtype: float64"
      ]
     },
     "execution_count": 186,
     "metadata": {},
     "output_type": "execute_result"
    }
   ],
   "source": [
    "#חרבות ברזל\n",
    "all_data[(all_data['usd monthly change']) > 0.3]\n",
    "all_data[(all_data['usd monthly change']) > 0.2]\n",
    "all_data[(all_data['year'] == '2023') & (all_data['month'] == '10')]\n",
    "# כפי שניתן לראות יש רק מקרה אחד שהעליה החדושית הייתה בכזה פער גדול של יותר מ0.3 \n",
    "# ואפילו עליה של 0.2 יש רק שלוש פעמים\n",
    "# ולכן ניתן לקבוע שהעלייה הזאת קרתה בעקבות המלחמה\n",
    "\n",
    "#המשבר הגדול 2008\n",
    "avg_us_monthly_change = all_data['us monthly change'].mean()\n",
    "all_data[(all_data['year'] == '2008')]['us monthly change']  < avg_us_monthly_change\n",
    "# כפי שניתן לראות באותה שנה ברוב מוחלט של החודשים \n",
    "# העליה ברבית הייתה יותר נמוכה מהרגיל\n",
    "\n",
    "# בחירות 2020\n",
    "all_data.groupby('year')['us monthly change'].mean()\n",
    "# כפי שניתן לראות כן הייתה ירידה חדה אך היא לא בהכרח קשורה לבחירות\n",
    "# כי באותה תקופה גם היה את מגפת הקורונה שגם יכלה להשפיע על המדד\n"
   ]
  }
 ],
 "metadata": {
  "kernelspec": {
   "display_name": "Python 3 (ipykernel)",
   "language": "python",
   "name": "python3"
  },
  "language_info": {
   "codemirror_mode": {
    "name": "ipython",
    "version": 3
   },
   "file_extension": ".py",
   "mimetype": "text/x-python",
   "name": "python",
   "nbconvert_exporter": "python",
   "pygments_lexer": "ipython3",
   "version": "3.11.6"
  }
 },
 "nbformat": 4,
 "nbformat_minor": 5
}
